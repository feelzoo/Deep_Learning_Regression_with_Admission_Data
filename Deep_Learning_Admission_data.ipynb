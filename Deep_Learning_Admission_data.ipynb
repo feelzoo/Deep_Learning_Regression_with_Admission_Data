{
 "cells": [
  {
   "cell_type": "markdown",
   "metadata": {},
   "source": [
    "# Deep Learning Regression with Admissions Data"
   ]
  },
  {
   "cell_type": "markdown",
   "metadata": {},
   "source": [
    "## 1. Project Goal"
   ]
  },
  {
   "cell_type": "markdown",
   "metadata": {},
   "source": [
    "#### In this project, I will develop a deep learning regression that predicts the probability (0 to 1) that a students will be accepted to graduate schools based on application factors "
   ]
  },
  {
   "cell_type": "code",
   "execution_count": 92,
   "metadata": {},
   "outputs": [],
   "source": [
    "import numpy as np\n",
    "import pandas as pd\n",
    "from matplotlib import pyplot as plt\n",
    "import seaborn as sns\n",
    "from sklearn.model_selection import train_test_split\n",
    "from sklearn.compose import ColumnTransformer\n",
    "from sklearn.preprocessing import StandardScaler\n",
    "from tensorflow.keras.models import Sequential\n",
    "from tensorflow.keras.layers import InputLayer\n",
    "from tensorflow.keras.layers import Dense\n",
    "from tensorflow.keras.optimizers import Adam\n",
    "from scipy.stats import randint as sp_randint\n",
    "from sklearn.metrics import mean_squared_error\n",
    "from sklearn.metrics import make_scorer\n",
    "from keras.wrappers.scikit_learn import KerasRegressor\n",
    "from sklearn.model_selection import RandomizedSearchCV\n",
    "from tensorflow.keras.callbacks import EarlyStopping\n",
    "from sklearn.metrics import r2_score\n",
    "    "
   ]
  },
  {
   "cell_type": "markdown",
   "metadata": {},
   "source": [
    "## 2. Dataset "
   ]
  },
  {
   "cell_type": "markdown",
   "metadata": {},
   "source": [
    "#### The dataset is from [Kaggle](https://www.kaggle.com/mohansacharya/graduate-admissions?select=Admission_Predict_Ver1.1.csv) containing information about 500 applicants from various universities and their chance of getting admitted"
   ]
  },
  {
   "cell_type": "code",
   "execution_count": 79,
   "metadata": {},
   "outputs": [],
   "source": [
    "admission = pd.read_csv('admissions_data.csv')"
   ]
  },
  {
   "cell_type": "code",
   "execution_count": 80,
   "metadata": {},
   "outputs": [
    {
     "data": {
      "text/html": [
       "<div>\n",
       "<style scoped>\n",
       "    .dataframe tbody tr th:only-of-type {\n",
       "        vertical-align: middle;\n",
       "    }\n",
       "\n",
       "    .dataframe tbody tr th {\n",
       "        vertical-align: top;\n",
       "    }\n",
       "\n",
       "    .dataframe thead th {\n",
       "        text-align: right;\n",
       "    }\n",
       "</style>\n",
       "<table border=\"1\" class=\"dataframe\">\n",
       "  <thead>\n",
       "    <tr style=\"text-align: right;\">\n",
       "      <th></th>\n",
       "      <th>Serial No.</th>\n",
       "      <th>GRE Score</th>\n",
       "      <th>TOEFL Score</th>\n",
       "      <th>University Rating</th>\n",
       "      <th>SOP</th>\n",
       "      <th>LOR</th>\n",
       "      <th>CGPA</th>\n",
       "      <th>Research</th>\n",
       "      <th>Chance of Admit</th>\n",
       "    </tr>\n",
       "  </thead>\n",
       "  <tbody>\n",
       "    <tr>\n",
       "      <th>0</th>\n",
       "      <td>1</td>\n",
       "      <td>337</td>\n",
       "      <td>118</td>\n",
       "      <td>4</td>\n",
       "      <td>4.5</td>\n",
       "      <td>4.5</td>\n",
       "      <td>9.65</td>\n",
       "      <td>1</td>\n",
       "      <td>0.92</td>\n",
       "    </tr>\n",
       "    <tr>\n",
       "      <th>1</th>\n",
       "      <td>2</td>\n",
       "      <td>324</td>\n",
       "      <td>107</td>\n",
       "      <td>4</td>\n",
       "      <td>4.0</td>\n",
       "      <td>4.5</td>\n",
       "      <td>8.87</td>\n",
       "      <td>1</td>\n",
       "      <td>0.76</td>\n",
       "    </tr>\n",
       "    <tr>\n",
       "      <th>2</th>\n",
       "      <td>3</td>\n",
       "      <td>316</td>\n",
       "      <td>104</td>\n",
       "      <td>3</td>\n",
       "      <td>3.0</td>\n",
       "      <td>3.5</td>\n",
       "      <td>8.00</td>\n",
       "      <td>1</td>\n",
       "      <td>0.72</td>\n",
       "    </tr>\n",
       "    <tr>\n",
       "      <th>3</th>\n",
       "      <td>4</td>\n",
       "      <td>322</td>\n",
       "      <td>110</td>\n",
       "      <td>3</td>\n",
       "      <td>3.5</td>\n",
       "      <td>2.5</td>\n",
       "      <td>8.67</td>\n",
       "      <td>1</td>\n",
       "      <td>0.80</td>\n",
       "    </tr>\n",
       "    <tr>\n",
       "      <th>4</th>\n",
       "      <td>5</td>\n",
       "      <td>314</td>\n",
       "      <td>103</td>\n",
       "      <td>2</td>\n",
       "      <td>2.0</td>\n",
       "      <td>3.0</td>\n",
       "      <td>8.21</td>\n",
       "      <td>0</td>\n",
       "      <td>0.65</td>\n",
       "    </tr>\n",
       "    <tr>\n",
       "      <th>...</th>\n",
       "      <td>...</td>\n",
       "      <td>...</td>\n",
       "      <td>...</td>\n",
       "      <td>...</td>\n",
       "      <td>...</td>\n",
       "      <td>...</td>\n",
       "      <td>...</td>\n",
       "      <td>...</td>\n",
       "      <td>...</td>\n",
       "    </tr>\n",
       "    <tr>\n",
       "      <th>495</th>\n",
       "      <td>496</td>\n",
       "      <td>332</td>\n",
       "      <td>108</td>\n",
       "      <td>5</td>\n",
       "      <td>4.5</td>\n",
       "      <td>4.0</td>\n",
       "      <td>9.02</td>\n",
       "      <td>1</td>\n",
       "      <td>0.87</td>\n",
       "    </tr>\n",
       "    <tr>\n",
       "      <th>496</th>\n",
       "      <td>497</td>\n",
       "      <td>337</td>\n",
       "      <td>117</td>\n",
       "      <td>5</td>\n",
       "      <td>5.0</td>\n",
       "      <td>5.0</td>\n",
       "      <td>9.87</td>\n",
       "      <td>1</td>\n",
       "      <td>0.96</td>\n",
       "    </tr>\n",
       "    <tr>\n",
       "      <th>497</th>\n",
       "      <td>498</td>\n",
       "      <td>330</td>\n",
       "      <td>120</td>\n",
       "      <td>5</td>\n",
       "      <td>4.5</td>\n",
       "      <td>5.0</td>\n",
       "      <td>9.56</td>\n",
       "      <td>1</td>\n",
       "      <td>0.93</td>\n",
       "    </tr>\n",
       "    <tr>\n",
       "      <th>498</th>\n",
       "      <td>499</td>\n",
       "      <td>312</td>\n",
       "      <td>103</td>\n",
       "      <td>4</td>\n",
       "      <td>4.0</td>\n",
       "      <td>5.0</td>\n",
       "      <td>8.43</td>\n",
       "      <td>0</td>\n",
       "      <td>0.73</td>\n",
       "    </tr>\n",
       "    <tr>\n",
       "      <th>499</th>\n",
       "      <td>500</td>\n",
       "      <td>327</td>\n",
       "      <td>113</td>\n",
       "      <td>4</td>\n",
       "      <td>4.5</td>\n",
       "      <td>4.5</td>\n",
       "      <td>9.04</td>\n",
       "      <td>0</td>\n",
       "      <td>0.84</td>\n",
       "    </tr>\n",
       "  </tbody>\n",
       "</table>\n",
       "<p>500 rows × 9 columns</p>\n",
       "</div>"
      ],
      "text/plain": [
       "     Serial No.  GRE Score  TOEFL Score  University Rating  SOP  LOR   CGPA  \\\n",
       "0             1        337          118                  4  4.5   4.5  9.65   \n",
       "1             2        324          107                  4  4.0   4.5  8.87   \n",
       "2             3        316          104                  3  3.0   3.5  8.00   \n",
       "3             4        322          110                  3  3.5   2.5  8.67   \n",
       "4             5        314          103                  2  2.0   3.0  8.21   \n",
       "..          ...        ...          ...                ...  ...   ...   ...   \n",
       "495         496        332          108                  5  4.5   4.0  9.02   \n",
       "496         497        337          117                  5  5.0   5.0  9.87   \n",
       "497         498        330          120                  5  4.5   5.0  9.56   \n",
       "498         499        312          103                  4  4.0   5.0  8.43   \n",
       "499         500        327          113                  4  4.5   4.5  9.04   \n",
       "\n",
       "     Research  Chance of Admit   \n",
       "0           1              0.92  \n",
       "1           1              0.76  \n",
       "2           1              0.72  \n",
       "3           1              0.80  \n",
       "4           0              0.65  \n",
       "..        ...               ...  \n",
       "495         1              0.87  \n",
       "496         1              0.96  \n",
       "497         1              0.93  \n",
       "498         0              0.73  \n",
       "499         0              0.84  \n",
       "\n",
       "[500 rows x 9 columns]"
      ]
     },
     "execution_count": 80,
     "metadata": {},
     "output_type": "execute_result"
    }
   ],
   "source": [
    "admission"
   ]
  },
  {
   "cell_type": "markdown",
   "metadata": {},
   "source": [
    "The Dataset includes nine different columns as below:\n",
    "\n",
    "* Serial No.: Index of each row (1-500)\n",
    "* GRE Score: GRE test score (out of 340)\n",
    "* TOEFL Score: TOEFL test score (out of 120)\n",
    "* University Rating: Evaluated university rating (out of 5)\n",
    "* SOP: Statement of Purpose Strength (out of 5)\n",
    "* LOR: Letter of Recommendation Strength (out of 5)\n",
    "* CGPA: Undergraduate GPA (out of 10)\n",
    "* Research: Has research experience (either 0 or 1)\n",
    "* Chance of Admit: Applicant’s chance of being admitted (ranging from 0 to 1)"
   ]
  },
  {
   "cell_type": "markdown",
   "metadata": {},
   "source": [
    "## 3. Implementing Deep Learning "
   ]
  },
  {
   "cell_type": "markdown",
   "metadata": {},
   "source": [
    "### a. Preprocessing Data for learning"
   ]
  },
  {
   "cell_type": "markdown",
   "metadata": {},
   "source": [
    " (1) Separating features from labels using array slicing"
   ]
  },
  {
   "cell_type": "code",
   "execution_count": 81,
   "metadata": {},
   "outputs": [],
   "source": [
    "#drop the first column (serial No.)\n",
    "admission = admission.drop(columns = ['Serial No.'])\n",
    "\n",
    "#Choose all columns except for last column for features\n",
    "features = admission.iloc[:,0:-1]\n",
    "\n",
    "#Choose the last column for labels\n",
    "labels = admission.iloc[:,-1]"
   ]
  },
  {
   "cell_type": "markdown",
   "metadata": {},
   "source": [
    " (2) Splitting the data into training and test sets (test_size = 0.33)"
   ]
  },
  {
   "cell_type": "code",
   "execution_count": 82,
   "metadata": {},
   "outputs": [],
   "source": [
    "#split the data into training and test sets \n",
    "feature_train,feature_test,label_train,label_test = train_test_split(features,labels,test_size=0.33, random_state =42)"
   ]
  },
  {
   "cell_type": "markdown",
   "metadata": {},
   "source": [
    " (3) Standardize the numerical features "
   ]
  },
  {
   "cell_type": "code",
   "execution_count": 83,
   "metadata": {},
   "outputs": [],
   "source": [
    "#standardize the numeric columns using Columntransformer\n",
    "ct = ColumnTransformer([('standardize', StandardScaler(),[True,True,True,True,True,True,True])])\n",
    "features_train_scale=ct.fit_transform(feature_train)\n",
    "features_test_scale = ct.fit_transform(feature_test)"
   ]
  },
  {
   "cell_type": "markdown",
   "metadata": {},
   "source": [
    "### b. Designing a Sequential model "
   ]
  },
  {
   "cell_type": "markdown",
   "metadata": {},
   "source": [
    " (1) Creating input, output and hidden layers  "
   ]
  },
  {
   "cell_type": "code",
   "execution_count": 84,
   "metadata": {},
   "outputs": [],
   "source": [
    "#create a Sequential object\n",
    "my_model = Sequential()\n",
    "\n",
    "#create input layers\n",
    "input = InputLayer(input_shape = (features.shape[1],))\n",
    "\n",
    "#add the input layer\n",
    "my_model.add(input)\n",
    "\n",
    "#add a hidden layer with 200 neurons\n",
    "my_model.add(Dense(200,activation = 'relu'))\n",
    "\n",
    "#add an output layer\n",
    "my_model.add(Dense(1))"
   ]
  },
  {
   "cell_type": "markdown",
   "metadata": {},
   "source": [
    " (2) Choosing a learning rate hyperparameter using an optimizer: Adam"
   ]
  },
  {
   "cell_type": "code",
   "execution_count": 85,
   "metadata": {},
   "outputs": [],
   "source": [
    "opt = Adam(learning_rate = .01)\n",
    "my_model.compile(loss='mse',metrics=['mae'],optimizer=opt)"
   ]
  },
  {
   "cell_type": "markdown",
   "metadata": {},
   "source": [
    " (3) Applying early stopping for efficiency"
   ]
  },
  {
   "cell_type": "code",
   "execution_count": 95,
   "metadata": {},
   "outputs": [],
   "source": [
    "stop = EarlyStopping(monitor = 'val_loss',mode='min',patience = 40)"
   ]
  },
  {
   "cell_type": "markdown",
   "metadata": {},
   "source": [
    "### c. Training the Model"
   ]
  },
  {
   "cell_type": "code",
   "execution_count": 97,
   "metadata": {
    "scrolled": false
   },
   "outputs": [
    {
     "name": "stdout",
     "output_type": "stream",
     "text": [
      "Epoch 1/50\n",
      "27/27 [==============================] - 0s 3ms/step - loss: 0.0038 - mae: 0.0446 - val_loss: 0.0022 - val_mae: 0.0336\n",
      "Epoch 2/50\n",
      "27/27 [==============================] - 0s 2ms/step - loss: 0.0039 - mae: 0.0449 - val_loss: 0.0021 - val_mae: 0.0338\n",
      "Epoch 3/50\n",
      "27/27 [==============================] - 0s 2ms/step - loss: 0.0039 - mae: 0.0443 - val_loss: 0.0023 - val_mae: 0.0369\n",
      "Epoch 4/50\n",
      "27/27 [==============================] - 0s 2ms/step - loss: 0.0038 - mae: 0.0433 - val_loss: 0.0024 - val_mae: 0.0376\n",
      "Epoch 5/50\n",
      "27/27 [==============================] - 0s 1ms/step - loss: 0.0039 - mae: 0.0457 - val_loss: 0.0023 - val_mae: 0.0365\n",
      "Epoch 6/50\n",
      "27/27 [==============================] - 0s 2ms/step - loss: 0.0038 - mae: 0.0446 - val_loss: 0.0021 - val_mae: 0.0336\n",
      "Epoch 7/50\n",
      "27/27 [==============================] - 0s 1ms/step - loss: 0.0038 - mae: 0.0429 - val_loss: 0.0025 - val_mae: 0.0394\n",
      "Epoch 8/50\n",
      "27/27 [==============================] - 0s 2ms/step - loss: 0.0038 - mae: 0.0440 - val_loss: 0.0023 - val_mae: 0.0377\n",
      "Epoch 9/50\n",
      "27/27 [==============================] - 0s 2ms/step - loss: 0.0038 - mae: 0.0440 - val_loss: 0.0028 - val_mae: 0.0431\n",
      "Epoch 10/50\n",
      "27/27 [==============================] - 0s 2ms/step - loss: 0.0038 - mae: 0.0448 - val_loss: 0.0024 - val_mae: 0.0372\n",
      "Epoch 11/50\n",
      "27/27 [==============================] - 0s 2ms/step - loss: 0.0038 - mae: 0.0444 - val_loss: 0.0021 - val_mae: 0.0331\n",
      "Epoch 12/50\n",
      "27/27 [==============================] - 0s 2ms/step - loss: 0.0037 - mae: 0.0427 - val_loss: 0.0026 - val_mae: 0.0399\n",
      "Epoch 13/50\n",
      "27/27 [==============================] - 0s 2ms/step - loss: 0.0038 - mae: 0.0451 - val_loss: 0.0024 - val_mae: 0.0383\n",
      "Epoch 14/50\n",
      "27/27 [==============================] - 0s 2ms/step - loss: 0.0039 - mae: 0.0437 - val_loss: 0.0023 - val_mae: 0.0357\n",
      "Epoch 15/50\n",
      "27/27 [==============================] - 0s 2ms/step - loss: 0.0040 - mae: 0.0467 - val_loss: 0.0023 - val_mae: 0.0368\n",
      "Epoch 16/50\n",
      "27/27 [==============================] - 0s 2ms/step - loss: 0.0036 - mae: 0.0429 - val_loss: 0.0039 - val_mae: 0.0513\n",
      "Epoch 17/50\n",
      "27/27 [==============================] - 0s 2ms/step - loss: 0.0042 - mae: 0.0474 - val_loss: 0.0023 - val_mae: 0.0362\n",
      "Epoch 18/50\n",
      "27/27 [==============================] - 0s 2ms/step - loss: 0.0037 - mae: 0.0431 - val_loss: 0.0024 - val_mae: 0.0378\n",
      "Epoch 19/50\n",
      "27/27 [==============================] - 0s 2ms/step - loss: 0.0039 - mae: 0.0449 - val_loss: 0.0025 - val_mae: 0.0377\n",
      "Epoch 20/50\n",
      "27/27 [==============================] - 0s 2ms/step - loss: 0.0039 - mae: 0.0448 - val_loss: 0.0022 - val_mae: 0.0330\n",
      "Epoch 21/50\n",
      "27/27 [==============================] - 0s 1ms/step - loss: 0.0038 - mae: 0.0431 - val_loss: 0.0026 - val_mae: 0.0386\n",
      "Epoch 22/50\n",
      "27/27 [==============================] - 0s 2ms/step - loss: 0.0039 - mae: 0.0446 - val_loss: 0.0022 - val_mae: 0.0344\n",
      "Epoch 23/50\n",
      "27/27 [==============================] - 0s 1ms/step - loss: 0.0038 - mae: 0.0432 - val_loss: 0.0023 - val_mae: 0.0338\n",
      "Epoch 24/50\n",
      "27/27 [==============================] - 0s 2ms/step - loss: 0.0038 - mae: 0.0434 - val_loss: 0.0022 - val_mae: 0.0342\n",
      "Epoch 25/50\n",
      "27/27 [==============================] - 0s 2ms/step - loss: 0.0038 - mae: 0.0436 - val_loss: 0.0026 - val_mae: 0.0385\n",
      "Epoch 26/50\n",
      "27/27 [==============================] - 0s 2ms/step - loss: 0.0040 - mae: 0.0451 - val_loss: 0.0022 - val_mae: 0.0336\n",
      "Epoch 27/50\n",
      "27/27 [==============================] - 0s 2ms/step - loss: 0.0038 - mae: 0.0439 - val_loss: 0.0022 - val_mae: 0.0334\n",
      "Epoch 28/50\n",
      "27/27 [==============================] - 0s 2ms/step - loss: 0.0040 - mae: 0.0456 - val_loss: 0.0032 - val_mae: 0.0469\n",
      "Epoch 29/50\n",
      "27/27 [==============================] - 0s 2ms/step - loss: 0.0038 - mae: 0.0446 - val_loss: 0.0022 - val_mae: 0.0340\n",
      "Epoch 30/50\n",
      "27/27 [==============================] - 0s 2ms/step - loss: 0.0038 - mae: 0.0442 - val_loss: 0.0024 - val_mae: 0.0376\n",
      "Epoch 31/50\n",
      "27/27 [==============================] - 0s 2ms/step - loss: 0.0039 - mae: 0.0450 - val_loss: 0.0027 - val_mae: 0.0409\n",
      "Epoch 32/50\n",
      "27/27 [==============================] - 0s 2ms/step - loss: 0.0038 - mae: 0.0443 - val_loss: 0.0022 - val_mae: 0.0340\n",
      "Epoch 33/50\n",
      "27/27 [==============================] - 0s 2ms/step - loss: 0.0038 - mae: 0.0438 - val_loss: 0.0025 - val_mae: 0.0387\n",
      "Epoch 34/50\n",
      "27/27 [==============================] - 0s 2ms/step - loss: 0.0038 - mae: 0.0441 - val_loss: 0.0022 - val_mae: 0.0343\n",
      "Epoch 35/50\n",
      "27/27 [==============================] - 0s 2ms/step - loss: 0.0038 - mae: 0.0435 - val_loss: 0.0024 - val_mae: 0.0365\n",
      "Epoch 36/50\n",
      "27/27 [==============================] - 0s 2ms/step - loss: 0.0039 - mae: 0.0446 - val_loss: 0.0023 - val_mae: 0.0353\n",
      "Epoch 37/50\n",
      "27/27 [==============================] - 0s 2ms/step - loss: 0.0040 - mae: 0.0466 - val_loss: 0.0024 - val_mae: 0.0372\n",
      "Epoch 38/50\n",
      "27/27 [==============================] - 0s 2ms/step - loss: 0.0039 - mae: 0.0440 - val_loss: 0.0022 - val_mae: 0.0344\n",
      "Epoch 39/50\n",
      "27/27 [==============================] - 0s 2ms/step - loss: 0.0038 - mae: 0.0441 - val_loss: 0.0023 - val_mae: 0.0348\n",
      "Epoch 40/50\n",
      "27/27 [==============================] - 0s 2ms/step - loss: 0.0038 - mae: 0.0454 - val_loss: 0.0023 - val_mae: 0.0350\n",
      "Epoch 41/50\n",
      "27/27 [==============================] - 0s 2ms/step - loss: 0.0038 - mae: 0.0443 - val_loss: 0.0022 - val_mae: 0.0334\n",
      "Epoch 42/50\n",
      "27/27 [==============================] - 0s 2ms/step - loss: 0.0039 - mae: 0.0448 - val_loss: 0.0026 - val_mae: 0.0400\n",
      "Epoch 43/50\n",
      "27/27 [==============================] - 0s 2ms/step - loss: 0.0039 - mae: 0.0455 - val_loss: 0.0029 - val_mae: 0.0427\n",
      "Epoch 44/50\n",
      "27/27 [==============================] - 0s 2ms/step - loss: 0.0038 - mae: 0.0437 - val_loss: 0.0023 - val_mae: 0.0341\n",
      "Epoch 45/50\n",
      "27/27 [==============================] - 0s 2ms/step - loss: 0.0038 - mae: 0.0449 - val_loss: 0.0023 - val_mae: 0.0335\n",
      "Epoch 46/50\n",
      "27/27 [==============================] - 0s 2ms/step - loss: 0.0040 - mae: 0.0451 - val_loss: 0.0025 - val_mae: 0.0379\n",
      "Epoch 47/50\n",
      "27/27 [==============================] - 0s 2ms/step - loss: 0.0038 - mae: 0.0441 - val_loss: 0.0024 - val_mae: 0.0376\n",
      "Epoch 48/50\n",
      "27/27 [==============================] - 0s 2ms/step - loss: 0.0039 - mae: 0.0445 - val_loss: 0.0030 - val_mae: 0.0442\n",
      "Epoch 49/50\n",
      "27/27 [==============================] - 0s 2ms/step - loss: 0.0040 - mae: 0.0470 - val_loss: 0.0027 - val_mae: 0.0404\n",
      "Epoch 50/50\n",
      "27/27 [==============================] - 0s 2ms/step - loss: 0.0040 - mae: 0.0448 - val_loss: 0.0023 - val_mae: 0.0365\n"
     ]
    }
   ],
   "source": [
    "#Train the model\n",
    "history=my_model.fit(features_train_scale,label_train,epochs=50,batch_size=10,verbose=1,validation_split=.2,callbacks=[stop])"
   ]
  },
  {
   "cell_type": "markdown",
   "metadata": {},
   "source": [
    "### d. Evaluating the model "
   ]
  },
  {
   "cell_type": "code",
   "execution_count": 98,
   "metadata": {},
   "outputs": [],
   "source": [
    "#evaluate the model\n",
    "val_mse, val_mae = my_model.evaluate(features_test_scale,label_test,verbose=0)"
   ]
  },
  {
   "cell_type": "code",
   "execution_count": 100,
   "metadata": {
    "scrolled": true
   },
   "outputs": [
    {
     "name": "stdout",
     "output_type": "stream",
     "text": [
      "MAE:  0.04374029114842415 MSE:  0.004027482122182846\n"
     ]
    }
   ],
   "source": [
    "#find MAE and MSE\n",
    "print('MAE: ', val_mae,'MSE: ',val_mse)"
   ]
  },
  {
   "cell_type": "markdown",
   "metadata": {},
   "source": [
    "The mean absolute error is .043 which means that the model is off by 4.3%. "
   ]
  },
  {
   "cell_type": "code",
   "execution_count": 101,
   "metadata": {},
   "outputs": [],
   "source": [
    "#evaluate r-sqaured for the mode"
   ]
  },
  {
   "cell_type": "code",
   "execution_count": 102,
   "metadata": {},
   "outputs": [],
   "source": [
    "y_predict = my_model.predict(features_test_scale)"
   ]
  },
  {
   "cell_type": "code",
   "execution_count": 104,
   "metadata": {
    "scrolled": true
   },
   "outputs": [
    {
     "name": "stdout",
     "output_type": "stream",
     "text": [
      "0.8045234220794694\n"
     ]
    }
   ],
   "source": [
    "print(r2_score(label_test,y_predict))"
   ]
  },
  {
   "cell_type": "markdown",
   "metadata": {},
   "source": [
    "$r^2$ is 0.80, indicating that 80% of the variation in the chance of admission is explained by the model. "
   ]
  },
  {
   "cell_type": "code",
   "execution_count": 112,
   "metadata": {},
   "outputs": [
    {
     "data": {
      "image/png": "[encoded data removed]",
      "text/plain": [
       "<Figure size 864x720 with 2 Axes>"
      ]
     },
     "metadata": {
      "needs_background": "light"
     },
     "output_type": "display_data"
    }
   ],
   "source": [
    "fig = plt.figure(figsize=(12,10))\n",
    "ax1 = fig.add_subplot(2, 1, 1)\n",
    "ax1.plot(history.history['mae'])\n",
    "ax1.plot(history.history['val_mae'])\n",
    "ax1.set_title('model mae')\n",
    "ax1.set_ylabel('MAE')\n",
    "ax1.set_xlabel('epoch')\n",
    "ax1.legend(['train', 'validation'], loc='upper left')\n",
    "\n",
    "ax2 = fig.add_subplot(2, 1, 2)\n",
    "ax2.plot(history.history['loss'])\n",
    "ax2.plot(history.history['val_loss'])\n",
    "ax2.set_title('model loss')\n",
    "ax2.set_ylabel('loss')\n",
    "ax2.set_xlabel('epoch')\n",
    "ax2.legend(['train', 'validation'], loc='upper left')\n",
    "\n",
    "plt.show()"
   ]
  },
  {
   "cell_type": "markdown",
   "metadata": {},
   "source": [
    "## 4. Hyperparameter Tuning"
   ]
  },
  {
   "cell_type": "markdown",
   "metadata": {},
   "source": [
    "In order to refine the model further, I will tweak our hyperparameters that include: \n",
    "\n",
    "* Learning rate\n",
    "* batch size\n",
    "* number of epochs\n",
    "* model size"
   ]
  },
  {
   "cell_type": "code",
   "execution_count": 90,
   "metadata": {
    "scrolled": false
   },
   "outputs": [
    {
     "name": "stdout",
     "output_type": "stream",
     "text": [
      "-------------- RANDOMIZED SEARCH --------------------\n"
     ]
    },
    {
     "ename": "NameError",
     "evalue": "name 'features_train' is not defined",
     "output_type": "error",
     "traceback": [
      "\u001b[0;31m---------------------------------------------------------------------------\u001b[0m",
      "\u001b[0;31mNameError\u001b[0m                                 Traceback (most recent call last)",
      "\u001b[0;32m<ipython-input-90-3c122ee69eea>\u001b[0m in \u001b[0;36m<module>\u001b[0;34m\u001b[0m\n\u001b[1;32m     14\u001b[0m \u001b[0;34m\u001b[0m\u001b[0m\n\u001b[1;32m     15\u001b[0m \u001b[0mprint\u001b[0m\u001b[0;34m(\u001b[0m\u001b[0;34m\"-------------- RANDOMIZED SEARCH --------------------\"\u001b[0m\u001b[0;34m)\u001b[0m\u001b[0;34m\u001b[0m\u001b[0;34m\u001b[0m\u001b[0m\n\u001b[0;32m---> 16\u001b[0;31m \u001b[0mdo_randomized_search\u001b[0m\u001b[0;34m(\u001b[0m\u001b[0;34m)\u001b[0m\u001b[0;34m\u001b[0m\u001b[0;34m\u001b[0m\u001b[0m\n\u001b[0m",
      "\u001b[0;32m<ipython-input-90-3c122ee69eea>\u001b[0m in \u001b[0;36mdo_randomized_search\u001b[0;34m()\u001b[0m\n\u001b[1;32m      3\u001b[0m   \u001b[0mmodel\u001b[0m \u001b[0;34m=\u001b[0m \u001b[0mKerasRegressor\u001b[0m\u001b[0;34m(\u001b[0m\u001b[0mbuild_fn\u001b[0m\u001b[0;34m=\u001b[0m\u001b[0mmy_model\u001b[0m\u001b[0;34m)\u001b[0m\u001b[0;34m\u001b[0m\u001b[0;34m\u001b[0m\u001b[0m\n\u001b[1;32m      4\u001b[0m   \u001b[0mgrid\u001b[0m \u001b[0;34m=\u001b[0m \u001b[0mRandomizedSearchCV\u001b[0m\u001b[0;34m(\u001b[0m\u001b[0mestimator\u001b[0m \u001b[0;34m=\u001b[0m \u001b[0mmodel\u001b[0m\u001b[0;34m,\u001b[0m \u001b[0mparam_distributions\u001b[0m\u001b[0;34m=\u001b[0m\u001b[0mparam_grid\u001b[0m\u001b[0;34m,\u001b[0m \u001b[0mscoring\u001b[0m \u001b[0;34m=\u001b[0m \u001b[0mmake_scorer\u001b[0m\u001b[0;34m(\u001b[0m\u001b[0mmean_squared_error\u001b[0m\u001b[0;34m,\u001b[0m \u001b[0mgreater_is_better\u001b[0m\u001b[0;34m=\u001b[0m\u001b[0;32mFalse\u001b[0m\u001b[0;34m)\u001b[0m\u001b[0;34m,\u001b[0m \u001b[0mn_iter\u001b[0m \u001b[0;34m=\u001b[0m \u001b[0;36m12\u001b[0m\u001b[0;34m)\u001b[0m\u001b[0;34m\u001b[0m\u001b[0;34m\u001b[0m\u001b[0m\n\u001b[0;32m----> 5\u001b[0;31m   \u001b[0mgrid_result\u001b[0m \u001b[0;34m=\u001b[0m \u001b[0mgrid\u001b[0m\u001b[0;34m.\u001b[0m\u001b[0mfit\u001b[0m\u001b[0;34m(\u001b[0m\u001b[0mfeatures_train\u001b[0m\u001b[0;34m,\u001b[0m \u001b[0mlabel_train\u001b[0m\u001b[0;34m,\u001b[0m \u001b[0mverbose\u001b[0m \u001b[0;34m=\u001b[0m \u001b[0;36m0\u001b[0m\u001b[0;34m)\u001b[0m\u001b[0;34m\u001b[0m\u001b[0;34m\u001b[0m\u001b[0m\n\u001b[0m\u001b[1;32m      6\u001b[0m   \u001b[0mprint\u001b[0m\u001b[0;34m(\u001b[0m\u001b[0mgrid_result\u001b[0m\u001b[0;34m)\u001b[0m\u001b[0;34m\u001b[0m\u001b[0;34m\u001b[0m\u001b[0m\n\u001b[1;32m      7\u001b[0m   \u001b[0mprint\u001b[0m\u001b[0;34m(\u001b[0m\u001b[0;34m\"Best: %f using %s\"\u001b[0m \u001b[0;34m%\u001b[0m \u001b[0;34m(\u001b[0m\u001b[0mgrid_result\u001b[0m\u001b[0;34m.\u001b[0m\u001b[0mbest_score_\u001b[0m\u001b[0;34m,\u001b[0m \u001b[0mgrid_result\u001b[0m\u001b[0;34m.\u001b[0m\u001b[0mbest_params_\u001b[0m\u001b[0;34m)\u001b[0m\u001b[0;34m)\u001b[0m\u001b[0;34m\u001b[0m\u001b[0;34m\u001b[0m\u001b[0m\n",
      "\u001b[0;31mNameError\u001b[0m: name 'features_train' is not defined"
     ]
    }
   ],
   "source": [
    "def do_randomized_search():\n",
    "  param_grid = {'batch_size': sp_randint(2, 16), 'nb_epoch': sp_randint(10, 100)}\n",
    "  model = KerasRegressor(build_fn=my_model)\n",
    "  grid = RandomizedSearchCV(estimator = model, param_distributions=param_grid, scoring = make_scorer(mean_squared_error, greater_is_better=False), n_iter = 12)\n",
    "  grid_result = grid.fit(features_train, label_train, verbose = 0)\n",
    "  print(grid_result)\n",
    "  print(\"Best: %f using %s\" % (grid_result.best_score_, grid_result.best_params_))\n",
    "\n",
    "  means = grid_result.cv_results_['mean_test_score']\n",
    "  stds = grid_result.cv_results_['std_test_score']\n",
    "  params = grid_result.cv_results_['params']\n",
    "  for mean, stdev, param in zip(means, stds, params):\n",
    "      print(\"%f (%f) with: %r\" % (mean, stdev, param))\n",
    "\n",
    "print(\"-------------- RANDOMIZED SEARCH --------------------\")\n",
    "do_randomized_search()"
   ]
  },
  {
   "cell_type": "code",
   "execution_count": null,
   "metadata": {},
   "outputs": [],
   "source": []
  },
  {
   "cell_type": "code",
   "execution_count": null,
   "metadata": {},
   "outputs": [],
   "source": []
  }
 ],
 "metadata": {
  "kernelspec": {
   "display_name": "Python 3",
   "language": "python",
   "name": "python3"
  },
  "language_info": {
   "codemirror_mode": {
    "name": "ipython",
    "version": 3
   },
   "file_extension": ".py",
   "mimetype": "text/x-python",
   "name": "python",
   "nbconvert_exporter": "python",
   "pygments_lexer": "ipython3",
   "version": "3.8.5"
  }
 },
 "nbformat": 4,
 "nbformat_minor": 4
}
