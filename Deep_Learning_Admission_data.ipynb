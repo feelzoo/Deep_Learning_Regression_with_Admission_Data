{
 "cells": [
  {
   "cell_type": "markdown",
   "metadata": {},
   "source": [
    "# Deep Learning Regression with Admissions Data"
   ]
  },
  {
   "cell_type": "markdown",
   "metadata": {},
   "source": [
    "## 1. Project Goal"
   ]
  },
  {
   "cell_type": "markdown",
   "metadata": {},
   "source": [
    "#### In this project, I will develope a deep learning regression that predicts the probability (0 to 1) that a students will be accepted to graduate schools based on application factors "
   ]
  },
  {
   "cell_type": "code",
   "execution_count": 19,
   "metadata": {},
   "outputs": [],
   "source": [
    "import numpy as np\n",
    "import pandas as pd\n",
    "from matplotlib import pyplot as plt\n",
    "import seaborn as sns\n",
    "from sklearn.model_selection import train_test_split\n",
    "from sklearn.compose import ColumnTransformer\n",
    "from sklearn.preprocessing import StandardScaler\n",
    "from tensorflow.keras.models import Sequential\n",
    "from tensorflow.keras.layers import InputLayer\n",
    "from tensorflow.keras.layers import Dense\n",
    "from tensorflow.keras.optimizers import Adam\n",
    "    "
   ]
  },
  {
   "cell_type": "markdown",
   "metadata": {},
   "source": [
    "## 2. Dataset "
   ]
  },
  {
   "cell_type": "markdown",
   "metadata": {},
   "source": [
    "#### The dataset is from [Kaggle](https://www.kaggle.com/mohansacharya/graduate-admissions?select=Admission_Predict_Ver1.1.csv) containing information about 500 applicants from various universities and their chance of getting admitted"
   ]
  },
  {
   "cell_type": "code",
   "execution_count": 2,
   "metadata": {},
   "outputs": [],
   "source": [
    "admission = pd.read_csv('admissions_data.csv')"
   ]
  },
  {
   "cell_type": "code",
   "execution_count": 3,
   "metadata": {},
   "outputs": [
    {
     "data": {
      "text/html": [
       "<div>\n",
       "<style scoped>\n",
       "    .dataframe tbody tr th:only-of-type {\n",
       "        vertical-align: middle;\n",
       "    }\n",
       "\n",
       "    .dataframe tbody tr th {\n",
       "        vertical-align: top;\n",
       "    }\n",
       "\n",
       "    .dataframe thead th {\n",
       "        text-align: right;\n",
       "    }\n",
       "</style>\n",
       "<table border=\"1\" class=\"dataframe\">\n",
       "  <thead>\n",
       "    <tr style=\"text-align: right;\">\n",
       "      <th></th>\n",
       "      <th>Serial No.</th>\n",
       "      <th>GRE Score</th>\n",
       "      <th>TOEFL Score</th>\n",
       "      <th>University Rating</th>\n",
       "      <th>SOP</th>\n",
       "      <th>LOR</th>\n",
       "      <th>CGPA</th>\n",
       "      <th>Research</th>\n",
       "      <th>Chance of Admit</th>\n",
       "    </tr>\n",
       "  </thead>\n",
       "  <tbody>\n",
       "    <tr>\n",
       "      <th>0</th>\n",
       "      <td>1</td>\n",
       "      <td>337</td>\n",
       "      <td>118</td>\n",
       "      <td>4</td>\n",
       "      <td>4.5</td>\n",
       "      <td>4.5</td>\n",
       "      <td>9.65</td>\n",
       "      <td>1</td>\n",
       "      <td>0.92</td>\n",
       "    </tr>\n",
       "    <tr>\n",
       "      <th>1</th>\n",
       "      <td>2</td>\n",
       "      <td>324</td>\n",
       "      <td>107</td>\n",
       "      <td>4</td>\n",
       "      <td>4.0</td>\n",
       "      <td>4.5</td>\n",
       "      <td>8.87</td>\n",
       "      <td>1</td>\n",
       "      <td>0.76</td>\n",
       "    </tr>\n",
       "    <tr>\n",
       "      <th>2</th>\n",
       "      <td>3</td>\n",
       "      <td>316</td>\n",
       "      <td>104</td>\n",
       "      <td>3</td>\n",
       "      <td>3.0</td>\n",
       "      <td>3.5</td>\n",
       "      <td>8.00</td>\n",
       "      <td>1</td>\n",
       "      <td>0.72</td>\n",
       "    </tr>\n",
       "    <tr>\n",
       "      <th>3</th>\n",
       "      <td>4</td>\n",
       "      <td>322</td>\n",
       "      <td>110</td>\n",
       "      <td>3</td>\n",
       "      <td>3.5</td>\n",
       "      <td>2.5</td>\n",
       "      <td>8.67</td>\n",
       "      <td>1</td>\n",
       "      <td>0.80</td>\n",
       "    </tr>\n",
       "    <tr>\n",
       "      <th>4</th>\n",
       "      <td>5</td>\n",
       "      <td>314</td>\n",
       "      <td>103</td>\n",
       "      <td>2</td>\n",
       "      <td>2.0</td>\n",
       "      <td>3.0</td>\n",
       "      <td>8.21</td>\n",
       "      <td>0</td>\n",
       "      <td>0.65</td>\n",
       "    </tr>\n",
       "    <tr>\n",
       "      <th>...</th>\n",
       "      <td>...</td>\n",
       "      <td>...</td>\n",
       "      <td>...</td>\n",
       "      <td>...</td>\n",
       "      <td>...</td>\n",
       "      <td>...</td>\n",
       "      <td>...</td>\n",
       "      <td>...</td>\n",
       "      <td>...</td>\n",
       "    </tr>\n",
       "    <tr>\n",
       "      <th>495</th>\n",
       "      <td>496</td>\n",
       "      <td>332</td>\n",
       "      <td>108</td>\n",
       "      <td>5</td>\n",
       "      <td>4.5</td>\n",
       "      <td>4.0</td>\n",
       "      <td>9.02</td>\n",
       "      <td>1</td>\n",
       "      <td>0.87</td>\n",
       "    </tr>\n",
       "    <tr>\n",
       "      <th>496</th>\n",
       "      <td>497</td>\n",
       "      <td>337</td>\n",
       "      <td>117</td>\n",
       "      <td>5</td>\n",
       "      <td>5.0</td>\n",
       "      <td>5.0</td>\n",
       "      <td>9.87</td>\n",
       "      <td>1</td>\n",
       "      <td>0.96</td>\n",
       "    </tr>\n",
       "    <tr>\n",
       "      <th>497</th>\n",
       "      <td>498</td>\n",
       "      <td>330</td>\n",
       "      <td>120</td>\n",
       "      <td>5</td>\n",
       "      <td>4.5</td>\n",
       "      <td>5.0</td>\n",
       "      <td>9.56</td>\n",
       "      <td>1</td>\n",
       "      <td>0.93</td>\n",
       "    </tr>\n",
       "    <tr>\n",
       "      <th>498</th>\n",
       "      <td>499</td>\n",
       "      <td>312</td>\n",
       "      <td>103</td>\n",
       "      <td>4</td>\n",
       "      <td>4.0</td>\n",
       "      <td>5.0</td>\n",
       "      <td>8.43</td>\n",
       "      <td>0</td>\n",
       "      <td>0.73</td>\n",
       "    </tr>\n",
       "    <tr>\n",
       "      <th>499</th>\n",
       "      <td>500</td>\n",
       "      <td>327</td>\n",
       "      <td>113</td>\n",
       "      <td>4</td>\n",
       "      <td>4.5</td>\n",
       "      <td>4.5</td>\n",
       "      <td>9.04</td>\n",
       "      <td>0</td>\n",
       "      <td>0.84</td>\n",
       "    </tr>\n",
       "  </tbody>\n",
       "</table>\n",
       "<p>500 rows × 9 columns</p>\n",
       "</div>"
      ],
      "text/plain": [
       "     Serial No.  GRE Score  TOEFL Score  University Rating  SOP  LOR   CGPA  \\\n",
       "0             1        337          118                  4  4.5   4.5  9.65   \n",
       "1             2        324          107                  4  4.0   4.5  8.87   \n",
       "2             3        316          104                  3  3.0   3.5  8.00   \n",
       "3             4        322          110                  3  3.5   2.5  8.67   \n",
       "4             5        314          103                  2  2.0   3.0  8.21   \n",
       "..          ...        ...          ...                ...  ...   ...   ...   \n",
       "495         496        332          108                  5  4.5   4.0  9.02   \n",
       "496         497        337          117                  5  5.0   5.0  9.87   \n",
       "497         498        330          120                  5  4.5   5.0  9.56   \n",
       "498         499        312          103                  4  4.0   5.0  8.43   \n",
       "499         500        327          113                  4  4.5   4.5  9.04   \n",
       "\n",
       "     Research  Chance of Admit   \n",
       "0           1              0.92  \n",
       "1           1              0.76  \n",
       "2           1              0.72  \n",
       "3           1              0.80  \n",
       "4           0              0.65  \n",
       "..        ...               ...  \n",
       "495         1              0.87  \n",
       "496         1              0.96  \n",
       "497         1              0.93  \n",
       "498         0              0.73  \n",
       "499         0              0.84  \n",
       "\n",
       "[500 rows x 9 columns]"
      ]
     },
     "execution_count": 3,
     "metadata": {},
     "output_type": "execute_result"
    }
   ],
   "source": [
    "admission"
   ]
  },
  {
   "cell_type": "markdown",
   "metadata": {},
   "source": [
    "The Dataset includes nine different columns as below:\n",
    "\n",
    "* Serial No.: Index of each row (1-500)\n",
    "* GRE Score: GRE test score (out of 340)\n",
    "* TOEFL Score: TOEFL test score (out of 120)\n",
    "* University Rating: Evaluated university rating (out of 5)\n",
    "* SOP: Statement of Purpose Strength (out of 5)\n",
    "* LOR: Letter of Recommendation Strength (out of 5)\n",
    "* CGPA: Undergraduate GPA (out of 10)\n",
    "* Research: Has research experience (either 0 or 1)\n",
    "* Chance of Admit: Applicant’s chance of being admitted (ranging from 0 to 1)"
   ]
  },
  {
   "cell_type": "markdown",
   "metadata": {},
   "source": [
    "## 3. Implementing Deep Learning "
   ]
  },
  {
   "cell_type": "markdown",
   "metadata": {},
   "source": [
    "### a. Preprocessing Data for learning"
   ]
  },
  {
   "cell_type": "markdown",
   "metadata": {},
   "source": [
    " (1) Separating features from labels using array slicing"
   ]
  },
  {
   "cell_type": "code",
   "execution_count": 4,
   "metadata": {},
   "outputs": [],
   "source": [
    "#drop the first column (serial No.)\n",
    "admission = admission.drop(columns = ['Serial No.'])\n",
    "\n",
    "#Choose all columns except for last column for features\n",
    "features = admission.iloc[:,0:-1]\n",
    "\n",
    "#Choose the last column for labels\n",
    "labels = admission.iloc[:,-1]"
   ]
  },
  {
   "cell_type": "markdown",
   "metadata": {},
   "source": [
    " (2) Splitting the data into training and test sets (test_size = 0.33)"
   ]
  },
  {
   "cell_type": "code",
   "execution_count": 5,
   "metadata": {},
   "outputs": [],
   "source": [
    "#split the data into training and test sets \n",
    "feature_train,feature_test,label_train,label_test = train_test_split(features,labels,test_size=0.33, random_state =42)"
   ]
  },
  {
   "cell_type": "markdown",
   "metadata": {},
   "source": [
    " (3) Standardize the numerical features "
   ]
  },
  {
   "cell_type": "code",
   "execution_count": 6,
   "metadata": {},
   "outputs": [],
   "source": [
    "#standardize the numeric columns using Columntransformer\n",
    "ct = ColumnTransformer([('standardize', StandardScaler(),[True,True,True,True,True,True,True])])\n",
    "features_train_scale=ct.fit_transform(feature_train)\n",
    "features_test_scale = ct.fit_transform(feature_test)"
   ]
  },
  {
   "cell_type": "markdown",
   "metadata": {},
   "source": [
    "### b. Designing a Sequential model "
   ]
  },
  {
   "cell_type": "markdown",
   "metadata": {},
   "source": [
    " (1) Creating input, output and hidden layers  "
   ]
  },
  {
   "cell_type": "code",
   "execution_count": 7,
   "metadata": {},
   "outputs": [],
   "source": [
    "#create a Sequential object\n",
    "model = Sequential()\n",
    "\n",
    "#create input layers\n",
    "input = InputLayer(input_shape = (features.shape[1],))\n",
    "\n",
    "#add the input layer\n",
    "model.add(input)\n",
    "\n",
    "#add a hidden layer with 200 neurons\n",
    "model.add(Dense(200,activation = 'relu'))\n",
    "\n",
    "#add an output layer\n",
    "model.add(Dense(1))"
   ]
  },
  {
   "cell_type": "markdown",
   "metadata": {},
   "source": [
    " (2) Choosing a learning rate hyperparameter using an optimizer: Adam"
   ]
  },
  {
   "cell_type": "code",
   "execution_count": 8,
   "metadata": {},
   "outputs": [],
   "source": [
    "opt = Adam(learning_rate = .01)\n",
    "model.compile(loss='mse',metrics=['mae'],optimizer=opt)"
   ]
  },
  {
   "cell_type": "markdown",
   "metadata": {},
   "source": [
    "### c. Training the Model"
   ]
  },
  {
   "cell_type": "code",
   "execution_count": 12,
   "metadata": {},
   "outputs": [
    {
     "name": "stdout",
     "output_type": "stream",
     "text": [
      "Epoch 1/40\n",
      "335/335 [==============================] - 0s 527us/step - loss: 0.0878 - mae: 0.1800\n",
      "Epoch 2/40\n",
      "335/335 [==============================] - 0s 504us/step - loss: 0.0113 - mae: 0.0816\n",
      "Epoch 3/40\n",
      "335/335 [==============================] - 0s 502us/step - loss: 0.0103 - mae: 0.0777\n",
      "Epoch 4/40\n",
      "335/335 [==============================] - 0s 510us/step - loss: 0.0068 - mae: 0.0628\n",
      "Epoch 5/40\n",
      "335/335 [==============================] - 0s 512us/step - loss: 0.0057 - mae: 0.0578\n",
      "Epoch 6/40\n",
      "335/335 [==============================] - 0s 498us/step - loss: 0.0065 - mae: 0.0632\n",
      "Epoch 7/40\n",
      "335/335 [==============================] - 0s 488us/step - loss: 0.0053 - mae: 0.0557\n",
      "Epoch 8/40\n",
      "335/335 [==============================] - 0s 486us/step - loss: 0.0057 - mae: 0.0565\n",
      "Epoch 9/40\n",
      "335/335 [==============================] - 0s 483us/step - loss: 0.0052 - mae: 0.0541\n",
      "Epoch 10/40\n",
      "335/335 [==============================] - 0s 484us/step - loss: 0.0063 - mae: 0.0588\n",
      "Epoch 11/40\n",
      "335/335 [==============================] - 0s 485us/step - loss: 0.0057 - mae: 0.0571\n",
      "Epoch 12/40\n",
      "335/335 [==============================] - 0s 488us/step - loss: 0.0049 - mae: 0.0516\n",
      "Epoch 13/40\n",
      "335/335 [==============================] - 0s 515us/step - loss: 0.0057 - mae: 0.0582\n",
      "Epoch 14/40\n",
      "335/335 [==============================] - 0s 520us/step - loss: 0.0089 - mae: 0.0686\n",
      "Epoch 15/40\n",
      "335/335 [==============================] - 0s 517us/step - loss: 0.0058 - mae: 0.0567\n",
      "Epoch 16/40\n",
      "335/335 [==============================] - 0s 518us/step - loss: 0.0082 - mae: 0.0673\n",
      "Epoch 17/40\n",
      "335/335 [==============================] - 0s 519us/step - loss: 0.0060 - mae: 0.0569\n",
      "Epoch 18/40\n",
      "335/335 [==============================] - 0s 517us/step - loss: 0.0051 - mae: 0.0542\n",
      "Epoch 19/40\n",
      "335/335 [==============================] - 0s 515us/step - loss: 0.0055 - mae: 0.0543\n",
      "Epoch 20/40\n",
      "335/335 [==============================] - 0s 514us/step - loss: 0.0049 - mae: 0.0517\n",
      "Epoch 21/40\n",
      "335/335 [==============================] - 0s 505us/step - loss: 0.0051 - mae: 0.0521\n",
      "Epoch 22/40\n",
      "335/335 [==============================] - 0s 499us/step - loss: 0.0065 - mae: 0.0569\n",
      "Epoch 23/40\n",
      "335/335 [==============================] - 0s 493us/step - loss: 0.0042 - mae: 0.0477\n",
      "Epoch 24/40\n",
      "335/335 [==============================] - 0s 494us/step - loss: 0.0044 - mae: 0.0486\n",
      "Epoch 25/40\n",
      "335/335 [==============================] - 0s 498us/step - loss: 0.0049 - mae: 0.0534\n",
      "Epoch 26/40\n",
      "335/335 [==============================] - 0s 491us/step - loss: 0.0052 - mae: 0.0538\n",
      "Epoch 27/40\n",
      "335/335 [==============================] - 0s 492us/step - loss: 0.0047 - mae: 0.0510\n",
      "Epoch 28/40\n",
      "335/335 [==============================] - 0s 522us/step - loss: 0.0047 - mae: 0.0501\n",
      "Epoch 29/40\n",
      "335/335 [==============================] - 0s 512us/step - loss: 0.0047 - mae: 0.0513\n",
      "Epoch 30/40\n",
      "335/335 [==============================] - 0s 510us/step - loss: 0.0045 - mae: 0.0478\n",
      "Epoch 31/40\n",
      "335/335 [==============================] - 0s 512us/step - loss: 0.0044 - mae: 0.0480\n",
      "Epoch 32/40\n",
      "335/335 [==============================] - 0s 511us/step - loss: 0.0052 - mae: 0.0528\n",
      "Epoch 33/40\n",
      "335/335 [==============================] - 0s 501us/step - loss: 0.0046 - mae: 0.0509\n",
      "Epoch 34/40\n",
      "335/335 [==============================] - 0s 499us/step - loss: 0.0045 - mae: 0.0492\n",
      "Epoch 35/40\n",
      "335/335 [==============================] - 0s 499us/step - loss: 0.0049 - mae: 0.0531\n",
      "Epoch 36/40\n",
      "335/335 [==============================] - 0s 499us/step - loss: 0.0046 - mae: 0.0497\n",
      "Epoch 37/40\n",
      "335/335 [==============================] - 0s 502us/step - loss: 0.0054 - mae: 0.0551\n",
      "Epoch 38/40\n",
      "335/335 [==============================] - 0s 494us/step - loss: 0.0046 - mae: 0.0499\n",
      "Epoch 39/40\n",
      "335/335 [==============================] - 0s 509us/step - loss: 0.0047 - mae: 0.0503\n",
      "Epoch 40/40\n",
      "335/335 [==============================] - 0s 544us/step - loss: 0.0047 - mae: 0.0506\n"
     ]
    },
    {
     "data": {
      "text/plain": [
       "<tensorflow.python.keras.callbacks.History at 0x7fd126129310>"
      ]
     },
     "execution_count": 12,
     "metadata": {},
     "output_type": "execute_result"
    }
   ],
   "source": [
    "#Train the model\n",
    "model.fit(features_train_scale,label_train,epochs=40,batch_size=1,verbose=1)"
   ]
  },
  {
   "cell_type": "code",
   "execution_count": 14,
   "metadata": {},
   "outputs": [],
   "source": [
    "#evaluate the model\n",
    "val_mse, val_mae = model.evaluate(features_test_scale,label_test,verbose=0)"
   ]
  },
  {
   "cell_type": "code",
   "execution_count": 16,
   "metadata": {},
   "outputs": [
    {
     "name": "stdout",
     "output_type": "stream",
     "text": [
      "MAE:  0.04948580265045166\n"
     ]
    }
   ],
   "source": [
    "print('MAE: ', val_mae)"
   ]
  },
  {
   "cell_type": "code",
   "execution_count": 17,
   "metadata": {},
   "outputs": [
    {
     "name": "stdout",
     "output_type": "stream",
     "text": [
      "MSE: 0.0050109680742025375\n"
     ]
    }
   ],
   "source": [
    "print('MSE:', val_mse)"
   ]
  },
  {
   "cell_type": "code",
   "execution_count": null,
   "metadata": {},
   "outputs": [],
   "source": []
  }
 ],
 "metadata": {
  "kernelspec": {
   "display_name": "Python 3",
   "language": "python",
   "name": "python3"
  },
  "language_info": {
   "codemirror_mode": {
    "name": "ipython",
    "version": 3
   },
   "file_extension": ".py",
   "mimetype": "text/x-python",
   "name": "python",
   "nbconvert_exporter": "python",
   "pygments_lexer": "ipython3",
   "version": "3.8.5"
  }
 },
 "nbformat": 4,
 "nbformat_minor": 4
}
